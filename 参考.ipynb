{
 "cells": [
  {
   "cell_type": "code",
   "execution_count": 1,
   "metadata": {},
   "outputs": [
    {
     "name": "stdout",
     "output_type": "stream",
     "text": [
      "请输入一个符号*\n",
      "请输入一个数5\n",
      "    * \n",
      "   * * \n",
      "  * * * \n",
      " * * * * \n",
      "* * * * * \n",
      " * * * * \n",
      "  * * * \n",
      "   * * \n",
      "    * \n"
     ]
    }
   ],
   "source": [
    "def diamond(char,num):\n",
    "    for i in range(1,num):\n",
    "        print(' '*(num-i)+char*i)\n",
    "    print(char*num)\n",
    "    for i in range(1,num):\n",
    "        print(' '*i+char*(num-i))\n",
    "        \n",
    "char=input('请输入一个符号')\n",
    "char=char+' '\n",
    "num=int(input('请输入一个数'))\n",
    "diamond(char,num)"
   ]
  },
  {
   "cell_type": "code",
   "execution_count": 4,
   "metadata": {},
   "outputs": [
    {
     "name": "stdout",
     "output_type": "stream",
     "text": [
      "输入你想要的数10\n",
      "4037913\n",
      "输入你想要的数10\n",
      "4037913\n"
     ]
    }
   ],
   "source": [
    "#01\n",
    "def sum(n):\n",
    "    total=0\n",
    "    if n==1:\n",
    "        return 1\n",
    "    else:\n",
    "        return n*sum(n-1)\n",
    "n=int(input('输入你想要的数'))\n",
    "total=0\n",
    "for i in range(1,n+1):\n",
    "    total+=sum(i)\n",
    "print(total)\n",
    "\n",
    "#02\n",
    "def sum(n):\n",
    "    total=0\n",
    "    for i in range(1,n+1):\n",
    "        m=1\n",
    "        for j in range(1,i+1):\n",
    "            m*=j\n",
    "        total+=m\n",
    "    return total\n",
    "n=int(input('输入你想要的数'))\n",
    "print(sum(n))"
   ]
  },
  {
   "cell_type": "code",
   "execution_count": 2,
   "metadata": {},
   "outputs": [
    {
     "name": "stdout",
     "output_type": "stream",
     "text": [
      "输入你想要的符号*\n",
      "输入你想要的数字5\n",
      "    * \n",
      "   * * \n",
      "  *   * \n",
      " *     * \n",
      "*       * \n",
      " *     * \n",
      "  *   * \n",
      "   * * \n",
      "    * \n"
     ]
    }
   ],
   "source": [
    "def diamond(char,num):\n",
    "    for i in range(1,num+1):                                     \n",
    "        if (i==1) or (i==2):\n",
    "            print(' '*(num-i)+char*i)\n",
    "        else:\n",
    "            print(' '*(num-i)+(char+' '*(2*(i-2))+char))\n",
    "    for i in range(1,num):\n",
    "        if (i==num-1) or (i==num-2):\n",
    "            print(' '*i+char*(num-i))\n",
    "        else:\n",
    "            print(' '*i+(char+' '*(2*(num-i-2))+char))\n",
    "char=input('输入你想要的符号')\n",
    "char=char+' '\n",
    "num=int(input('输入你想要的数字'))\n",
    "diamond(char,num)\n",
    "        "
   ]
  },
  {
   "cell_type": "code",
   "execution_count": 11,
   "metadata": {},
   "outputs": [
    {
     "name": "stdout",
     "output_type": "stream",
     "text": [
      "0 京 A-JUB22\n",
      "1 京 V-BKT31\n",
      "2 京 L-33FWL\n",
      "3 京 H-EZ19N\n",
      "4 京 Q-2VJE4\n",
      "5 京 T-MEMHD\n",
      "6 京 X-55VB8\n",
      "7 京 Q-WF0Q8\n",
      "8 京 Y-A2DP3\n",
      "9 京 F-XWUJB\n"
     ]
    }
   ],
   "source": [
    "#3、北京车牌号的一般形式为：“京X-YYYYY”，其中X为字母，Y为字母或者数字，字母不能为I或者O，数字只能0-9之间。请编写程序模拟选号过程：一次可以随机生成10个车牌号（不能有重复），依次将其编号为0-9，显示给用户。（20\n",
    "list_1=[i for i in range(10)]\n",
    "list_2=['A','B','C','D','E','F','G','H','J','K','L','M','N','P','Q','R','S','T','U','V','W','X','Y','Z']\n",
    "import random\n",
    "compute_set=set()\n",
    "while True:\n",
    "    X= str(random.choice(list_2))\n",
    "    Y1= str(random.choice(list_1 + list_2))\n",
    "    Y2= str(random.choice(list_1 + list_2))\n",
    "    Y3= str(random.choice(list_1 + list_2))\n",
    "    Y4= str(random.choice(list_1 + list_2))\n",
    "    Y5= str(random.choice(list_1 + list_2))\n",
    "    compute_num=X+'-'+Y1+Y2+Y3+Y4+Y5\n",
    "    compute_set.add(compute_num)\n",
    "    if len(compute_set)==10:\n",
    "        break\n",
    "compute_list=list(compute_set)\n",
    "for i in range(10):\n",
    "    n=int(i)\n",
    "    print(n,'京',compute_list[i])"
   ]
  },
  {
   "cell_type": "code",
   "execution_count": 4,
   "metadata": {},
   "outputs": [
    {
     "data": {
      "text/plain": [
       "0.9583148474999099"
      ]
     },
     "execution_count": 4,
     "metadata": {},
     "output_type": "execute_result"
    }
   ],
   "source": [
    "#4向量距离最小值\n",
    "def cosVector(x,y):\n",
    "    result1=0.0;\n",
    "    result2=0.0;\n",
    "    result3=0.0;\n",
    "    for i in range(len(x)):\n",
    "        result1+=x[i]*y[i]   #sum(X*Y)\n",
    "        result2+=x[i]**2     #sum(X*X)\n",
    "        result3+=y[i]**2     #sum(Y*Y)\n",
    "    #print(result1)\n",
    "    #print(result2)\n",
    "    #print(result3)\n",
    "    return result1/((result2*result3)**0.5)\n",
    "min((cosVector([1,2,3,4],[4,5,6,7])),(cosVector([1,2,3,4],[7,8,9,10])),(cosVector([4,5,6,7],[7,8,9,10])))"
   ]
  },
  {
   "cell_type": "code",
   "execution_count": 4,
   "metadata": {},
   "outputs": [
    {
     "ename": "PermissionError",
     "evalue": "[Errno 13] Permission denied: 'C:\\\\Users\\\\bean.txt'",
     "output_type": "error",
     "traceback": [
      "\u001b[1;31m---------------------------------------------------------------------------\u001b[0m",
      "\u001b[1;31mPermissionError\u001b[0m                           Traceback (most recent call last)",
      "\u001b[1;32m<ipython-input-4-dbf89f4e71a1>\u001b[0m in \u001b[0;36m<module>\u001b[1;34m()\u001b[0m\n\u001b[0;32m      2\u001b[0m \u001b[1;31m#（a）\u001b[0m\u001b[1;33m\u001b[0m\u001b[1;33m\u001b[0m\u001b[0m\n\u001b[0;32m      3\u001b[0m \u001b[1;32mimport\u001b[0m \u001b[0mrandom\u001b[0m\u001b[1;33m\u001b[0m\u001b[0m\n\u001b[1;32m----> 4\u001b[1;33m \u001b[1;32mwith\u001b[0m \u001b[0mopen\u001b[0m\u001b[1;33m(\u001b[0m\u001b[1;34mr'C:\\Users\\bean.txt'\u001b[0m\u001b[1;33m,\u001b[0m\u001b[1;34m'w'\u001b[0m\u001b[1;33m)\u001b[0m \u001b[1;32mas\u001b[0m \u001b[0ma\u001b[0m\u001b[1;33m,\u001b[0m \u001b[0mopen\u001b[0m\u001b[1;33m(\u001b[0m\u001b[1;34mr'C:\\Users\\bean.txt'\u001b[0m\u001b[1;33m,\u001b[0m\u001b[1;34m'w'\u001b[0m\u001b[1;33m)\u001b[0m \u001b[1;32mas\u001b[0m \u001b[0mb\u001b[0m\u001b[1;33m:\u001b[0m\u001b[1;33m\u001b[0m\u001b[0m\n\u001b[0m\u001b[0;32m      5\u001b[0m     \u001b[0mword_a\u001b[0m \u001b[1;33m=\u001b[0m \u001b[1;33m[\u001b[0m\u001b[1;36m0\u001b[0m \u001b[1;32mfor\u001b[0m \u001b[0mi\u001b[0m \u001b[1;32min\u001b[0m \u001b[0mrange\u001b[0m\u001b[1;33m(\u001b[0m\u001b[1;36m100000\u001b[0m\u001b[1;33m)\u001b[0m\u001b[1;33m]\u001b[0m\u001b[1;33m\u001b[0m\u001b[0m\n\u001b[0;32m      6\u001b[0m     \u001b[0mword_b\u001b[0m \u001b[1;33m=\u001b[0m \u001b[1;33m[\u001b[0m\u001b[1;36m0\u001b[0m \u001b[1;32mfor\u001b[0m \u001b[0mi\u001b[0m \u001b[1;32min\u001b[0m \u001b[0mrange\u001b[0m\u001b[1;33m(\u001b[0m\u001b[1;36m100000\u001b[0m\u001b[1;33m)\u001b[0m\u001b[1;33m]\u001b[0m\u001b[1;33m\u001b[0m\u001b[0m\n",
      "\u001b[1;31mPermissionError\u001b[0m: [Errno 13] Permission denied: 'C:\\\\Users\\\\bean.txt'"
     ]
    }
   ],
   "source": [
    "#5文件操作\n",
    "#（a）\n",
    "import random\n",
    "with open(r'C:\\Users\\bean.txt','w') as a, open(r'C:\\Users\\bean.txt','w') as b:\n",
    "    word_a = [0 for i in range(100000)]\n",
    "    word_b = [0 for i in range(100000)]\n",
    "    for i in range(100000):\n",
    "        k = random.randint(1,10000)\n",
    "        if k in word_a:\n",
    "            word_a[k] += 1\n",
    "        else:\n",
    "            word_a[k] = 1\n",
    "    for i in range(1,100001):\n",
    "        if word_a[i] >= 1:\n",
    "            a.write(str(i))\n",
    "            a.write(str(word_a[i]))\n",
    "            a.write('\\\\n')\n",
    "    for i in range(100000):\n",
    "        k = random.randint(1,15000)\n",
    "        if k in word_b:\n",
    "            word_b[k] += 1\n",
    "        else:\n",
    "            word_b[k] = 1\n",
    "    for i in range(1,100001):\n",
    "        if word_b[i] >= 1:\n",
    "            b.write(str(i))\n",
    "            b.write(str(word_b[i]))\n",
    "            b.write('\\\\n')\n",
    "#(b)\n",
    "for i in range(100000):\n",
    "    if word_a[i] >= 0:\n",
    "        s = i\n",
    "        if s == s[::-1]:\n",
    "            print(s,word_a[i])\n",
    "#(c)\n",
    "sum_01 = 0\n",
    "sum_02 = 0\n",
    "for i in range(10000):\n",
    "    if wrod_a[i] >= 1:\n",
    "        sum_01 += word_a[i]\n",
    "        sum_02 += word_a[i]*i\n",
    "print(sum_01,sum_02)\n",
    "#(d)\n",
    "with open('D:\\\\Python36\\\\exam\\\\a.txt','w') as f:\n",
    "    for i in range(100000):\n",
    "        if (word_a[i] >= 1) and (word_b[i] >= 1):\n",
    "            f.write(str(i))\n",
    "            f.write('\\\\n')"
   ]
  },
  {
   "cell_type": "code",
   "execution_count": null,
   "metadata": {
    "collapsed": true
   },
   "outputs": [],
   "source": []
  }
 ],
 "metadata": {
  "kernelspec": {
   "display_name": "Python 3",
   "language": "python",
   "name": "python3"
  },
  "language_info": {
   "codemirror_mode": {
    "name": "ipython",
    "version": 3
   },
   "file_extension": ".py",
   "mimetype": "text/x-python",
   "name": "python",
   "nbconvert_exporter": "python",
   "pygments_lexer": "ipython3",
   "version": "3.6.3"
  }
 },
 "nbformat": 4,
 "nbformat_minor": 2
}
